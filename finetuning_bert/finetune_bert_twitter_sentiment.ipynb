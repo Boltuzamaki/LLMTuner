{
 "cells": [
  {
   "cell_type": "markdown",
   "metadata": {},
   "source": [
    "# Data Loading and Basic Data Analysis"
   ]
  },
  {
   "cell_type": "code",
   "execution_count": null,
   "metadata": {},
   "outputs": [],
   "source": [
    "import pandas as pd\n",
    "data = pd.read_csv(\"https://raw.githubusercontent.com/laxmimerit/All-CSV-ML-Data-Files-Download/refs/heads/master/twitter_multi_class_sentiment.csv\")"
   ]
  },
  {
   "cell_type": "code",
   "execution_count": 109,
   "metadata": {},
   "outputs": [
    {
     "data": {
      "text/html": [
       "<div>\n",
       "<style scoped>\n",
       "    .dataframe tbody tr th:only-of-type {\n",
       "        vertical-align: middle;\n",
       "    }\n",
       "\n",
       "    .dataframe tbody tr th {\n",
       "        vertical-align: top;\n",
       "    }\n",
       "\n",
       "    .dataframe thead th {\n",
       "        text-align: right;\n",
       "    }\n",
       "</style>\n",
       "<table border=\"1\" class=\"dataframe\">\n",
       "  <thead>\n",
       "    <tr style=\"text-align: right;\">\n",
       "      <th></th>\n",
       "      <th>text</th>\n",
       "      <th>label</th>\n",
       "      <th>label_name</th>\n",
       "    </tr>\n",
       "  </thead>\n",
       "  <tbody>\n",
       "    <tr>\n",
       "      <th>0</th>\n",
       "      <td>i didnt feel humiliated</td>\n",
       "      <td>0</td>\n",
       "      <td>sadness</td>\n",
       "    </tr>\n",
       "    <tr>\n",
       "      <th>1</th>\n",
       "      <td>i can go from feeling so hopeless to so damned...</td>\n",
       "      <td>0</td>\n",
       "      <td>sadness</td>\n",
       "    </tr>\n",
       "    <tr>\n",
       "      <th>2</th>\n",
       "      <td>im grabbing a minute to post i feel greedy wrong</td>\n",
       "      <td>3</td>\n",
       "      <td>anger</td>\n",
       "    </tr>\n",
       "    <tr>\n",
       "      <th>3</th>\n",
       "      <td>i am ever feeling nostalgic about the fireplac...</td>\n",
       "      <td>2</td>\n",
       "      <td>love</td>\n",
       "    </tr>\n",
       "    <tr>\n",
       "      <th>4</th>\n",
       "      <td>i am feeling grouchy</td>\n",
       "      <td>3</td>\n",
       "      <td>anger</td>\n",
       "    </tr>\n",
       "  </tbody>\n",
       "</table>\n",
       "</div>"
      ],
      "text/plain": [
       "                                                text  label label_name\n",
       "0                            i didnt feel humiliated      0    sadness\n",
       "1  i can go from feeling so hopeless to so damned...      0    sadness\n",
       "2   im grabbing a minute to post i feel greedy wrong      3      anger\n",
       "3  i am ever feeling nostalgic about the fireplac...      2       love\n",
       "4                               i am feeling grouchy      3      anger"
      ]
     },
     "execution_count": 109,
     "metadata": {},
     "output_type": "execute_result"
    }
   ],
   "source": [
    "data.head()"
   ]
  },
  {
   "cell_type": "code",
   "execution_count": 110,
   "metadata": {},
   "outputs": [
    {
     "data": {
      "text/html": [
       "<div>\n",
       "<style scoped>\n",
       "    .dataframe tbody tr th:only-of-type {\n",
       "        vertical-align: middle;\n",
       "    }\n",
       "\n",
       "    .dataframe tbody tr th {\n",
       "        vertical-align: top;\n",
       "    }\n",
       "\n",
       "    .dataframe thead th {\n",
       "        text-align: right;\n",
       "    }\n",
       "</style>\n",
       "<table border=\"1\" class=\"dataframe\">\n",
       "  <thead>\n",
       "    <tr style=\"text-align: right;\">\n",
       "      <th></th>\n",
       "      <th>label</th>\n",
       "    </tr>\n",
       "  </thead>\n",
       "  <tbody>\n",
       "    <tr>\n",
       "      <th>count</th>\n",
       "      <td>16000.000000</td>\n",
       "    </tr>\n",
       "    <tr>\n",
       "      <th>mean</th>\n",
       "      <td>1.565937</td>\n",
       "    </tr>\n",
       "    <tr>\n",
       "      <th>std</th>\n",
       "      <td>1.501430</td>\n",
       "    </tr>\n",
       "    <tr>\n",
       "      <th>min</th>\n",
       "      <td>0.000000</td>\n",
       "    </tr>\n",
       "    <tr>\n",
       "      <th>25%</th>\n",
       "      <td>0.000000</td>\n",
       "    </tr>\n",
       "    <tr>\n",
       "      <th>50%</th>\n",
       "      <td>1.000000</td>\n",
       "    </tr>\n",
       "    <tr>\n",
       "      <th>75%</th>\n",
       "      <td>3.000000</td>\n",
       "    </tr>\n",
       "    <tr>\n",
       "      <th>max</th>\n",
       "      <td>5.000000</td>\n",
       "    </tr>\n",
       "  </tbody>\n",
       "</table>\n",
       "</div>"
      ],
      "text/plain": [
       "              label\n",
       "count  16000.000000\n",
       "mean       1.565937\n",
       "std        1.501430\n",
       "min        0.000000\n",
       "25%        0.000000\n",
       "50%        1.000000\n",
       "75%        3.000000\n",
       "max        5.000000"
      ]
     },
     "execution_count": 110,
     "metadata": {},
     "output_type": "execute_result"
    }
   ],
   "source": [
    "data.describe()"
   ]
  },
  {
   "cell_type": "code",
   "execution_count": 111,
   "metadata": {},
   "outputs": [
    {
     "name": "stdout",
     "output_type": "stream",
     "text": [
      "<class 'pandas.core.frame.DataFrame'>\n",
      "RangeIndex: 16000 entries, 0 to 15999\n",
      "Data columns (total 3 columns):\n",
      " #   Column      Non-Null Count  Dtype \n",
      "---  ------      --------------  ----- \n",
      " 0   text        16000 non-null  object\n",
      " 1   label       16000 non-null  int64 \n",
      " 2   label_name  16000 non-null  object\n",
      "dtypes: int64(1), object(2)\n",
      "memory usage: 375.1+ KB\n"
     ]
    }
   ],
   "source": [
    "data.info()"
   ]
  },
  {
   "cell_type": "code",
   "execution_count": 112,
   "metadata": {},
   "outputs": [
    {
     "data": {
      "text/plain": [
       "text          0\n",
       "label         0\n",
       "label_name    0\n",
       "dtype: int64"
      ]
     },
     "execution_count": 112,
     "metadata": {},
     "output_type": "execute_result"
    }
   ],
   "source": [
    "data.isnull().sum()"
   ]
  },
  {
   "cell_type": "code",
   "execution_count": 113,
   "metadata": {},
   "outputs": [
    {
     "data": {
      "text/plain": [
       "label\n",
       "1    5362\n",
       "0    4666\n",
       "3    2159\n",
       "4    1937\n",
       "2    1304\n",
       "5     572\n",
       "Name: count, dtype: int64"
      ]
     },
     "execution_count": 113,
     "metadata": {},
     "output_type": "execute_result"
    }
   ],
   "source": [
    "data[\"label\"].value_counts()"
   ]
  },
  {
   "cell_type": "markdown",
   "metadata": {},
   "source": [
    "# EDA"
   ]
  },
  {
   "cell_type": "code",
   "execution_count": 8,
   "metadata": {},
   "outputs": [],
   "source": [
    "import matplotlib.pyplot as plt"
   ]
  },
  {
   "cell_type": "code",
   "execution_count": 9,
   "metadata": {},
   "outputs": [],
   "source": [
    "label_counts = data['label_name'].value_counts(ascending=True)"
   ]
  },
  {
   "cell_type": "code",
   "execution_count": 10,
   "metadata": {},
   "outputs": [
    {
     "data": {
      "text/plain": [
       "label_name\n",
       "surprise     572\n",
       "love        1304\n",
       "fear        1937\n",
       "anger       2159\n",
       "sadness     4666\n",
       "joy         5362\n",
       "Name: count, dtype: int64"
      ]
     },
     "execution_count": 10,
     "metadata": {},
     "output_type": "execute_result"
    }
   ],
   "source": [
    "label_counts"
   ]
  },
  {
   "cell_type": "code",
   "execution_count": 11,
   "metadata": {},
   "outputs": [
    {
     "data": {
      "text/plain": [
       "<Axes: ylabel='label_name'>"
      ]
     },
     "execution_count": 11,
     "metadata": {},
     "output_type": "execute_result"
    },
    {
     "data": {
      "image/png": "[encoded data removed]",
      "text/plain": [
       "<Figure size 640x480 with 1 Axes>"
      ]
     },
     "metadata": {},
     "output_type": "display_data"
    }
   ],
   "source": [
    "label_counts.plot.barh()"
   ]
  },
  {
   "cell_type": "code",
   "execution_count": 114,
   "metadata": {},
   "outputs": [
    {
     "data": {
      "text/plain": [
       "<Axes: title={'center': 'Word per tweet'}, xlabel='label_name'>"
      ]
     },
     "execution_count": 114,
     "metadata": {},
     "output_type": "execute_result"
    },
    {
     "data": {
      "image/png": "[encoded data removed]",
      "text/plain": [
       "<Figure size 640x480 with 1 Axes>"
      ]
     },
     "metadata": {},
     "output_type": "display_data"
    }
   ],
   "source": [
    "data[\"Word per tweet\"] =  data['text'].apply(lambda x: len(x.split()))\n",
    "data.boxplot(\"Word per tweet\", by=\"label_name\")"
   ]
  },
  {
   "cell_type": "markdown",
   "metadata": {},
   "source": [
    "# Tokenization"
   ]
  },
  {
   "cell_type": "code",
   "execution_count": 115,
   "metadata": {},
   "outputs": [
    {
     "name": "stdout",
     "output_type": "stream",
     "text": [
      "{'input_ids': [101, 1045, 2215, 2000, 2377, 2374, 102], 'token_type_ids': [0, 0, 0, 0, 0, 0, 0], 'attention_mask': [1, 1, 1, 1, 1, 1, 1]}\n"
     ]
    }
   ],
   "source": [
    "from transformers import AutoTokenizer\n",
    "\n",
    "# Specify the pre-trained BERT model checkpoint (in this case, the \"bert-base-uncased\" variant)\n",
    "model_ckpt = \"bert-base-uncased\"\n",
    "\n",
    "# Load the tokenizer for the specified BERT model checkpoint\n",
    "# The tokenizer will be responsible for converting text to input tokens for the model\n",
    "tokenizer = AutoTokenizer.from_pretrained(model_ckpt)\n",
    "\n",
    "# Define the input text that you want to tokenize\n",
    "text = \"I want to play football\"\n",
    "\n",
    "# Encode the text into token IDs using the tokenizer\n",
    "# This converts the text into a format that can be fed into the BERT model\n",
    "encoded_text = tokenizer(text)\n",
    "\n",
    "# Print the encoded result, which includes token IDs, attention masks, and other information\n",
    "print(encoded_text)"
   ]
  },
  {
   "cell_type": "code",
   "execution_count": 19,
   "metadata": {},
   "outputs": [
    {
     "data": {
      "text/plain": [
       "{'jalan': 28410,\n",
       " 'confidential': 18777,\n",
       " 'realised': 11323,\n",
       " 'abilities': 7590,\n",
       " 'reid': 9027,\n",
       " 'ф': 1199,\n",
       " 'liam': 8230,\n",
       " '##ype': 18863,\n",
       " 'gardiner': 21143,\n",
       " 'action': 2895,\n",
       " 'randall': 12813,\n",
       " '1666': 27407,\n",
       " 'traumatic': 19686,\n",
       " 'blows': 13783,\n",
       " '##zyn': 23749,\n",
       " 'boyd': 12164,\n",
       " 'dutch': 3803,\n",
       " 'flashed': 8373,\n",
       " 'kosovo': 11491,\n",
       " 'torpedo': 9862,\n",
       " '##rations': 28893,\n",
       " '##sin': 11493,\n",
       " 'omaha': 12864,\n",
       " 'sensitivity': 14639,\n",
       " 'gmbh': 18289,\n",
       " '[unused270]': 275,\n",
       " '##rites': 28884,\n",
       " 'camouflage': 21356,\n",
       " 'tanks': 7286,\n",
       " 'pegasus': 26606,\n",
       " 'astrid': 27376,\n",
       " '##ick': 6799,\n",
       " 'hua': 23064,\n",
       " '##一': 30266,\n",
       " 'mouths': 15076,\n",
       " '##berger': 14859,\n",
       " 'roots': 6147,\n",
       " '[unused706]': 711,\n",
       " 'oceans': 17401,\n",
       " '##esa': 22447,\n",
       " '##esis': 19009,\n",
       " '##ren': 7389,\n",
       " '☆': 1621,\n",
       " 'slalom': 19617,\n",
       " '##ease': 19500,\n",
       " '##qa': 19062,\n",
       " '##oons': 27174,\n",
       " '##rma': 17830,\n",
       " 'biased': 25352,\n",
       " 'subtle': 11259,\n",
       " 'beams': 13110,\n",
       " 'foreigners': 15040,\n",
       " '##alo': 23067,\n",
       " 'care': 2729,\n",
       " 'finding': 4531,\n",
       " 'mongolia': 13906,\n",
       " 'segregation': 18771,\n",
       " '420': 17442,\n",
       " '##hue': 20169,\n",
       " 'sentimental': 23069,\n",
       " 'discipline': 9009,\n",
       " 'shimmering': 22349,\n",
       " 'simulated': 23599,\n",
       " 'eastman': 24252,\n",
       " 'humble': 15716,\n",
       " '##aks': 29243,\n",
       " 'cheltenham': 18763,\n",
       " '##dge': 11818,\n",
       " 'passage': 6019,\n",
       " 'remixes': 15193,\n",
       " 'distracted': 11116,\n",
       " 'enemy': 4099,\n",
       " 'consonant': 18265,\n",
       " 'illustrations': 11249,\n",
       " 'have': 2031,\n",
       " '##stein': 8602,\n",
       " 'jumping': 8660,\n",
       " 'publicly': 7271,\n",
       " 'minus': 15718,\n",
       " '[unused351]': 356,\n",
       " '##rso': 25301,\n",
       " 'assemble': 21365,\n",
       " 'inquisition': 24638,\n",
       " 'crocodile': 21843,\n",
       " 'horatio': 27752,\n",
       " 'nominees': 17853,\n",
       " 'vin': 19354,\n",
       " 'シ': 1706,\n",
       " 'titus': 18828,\n",
       " 'geo': 20248,\n",
       " 'hardin': 27522,\n",
       " 'lecture': 8835,\n",
       " 'stockton': 19161,\n",
       " 'similar': 2714,\n",
       " 'brought': 2716,\n",
       " '##chman': 19944,\n",
       " 'genes': 9165,\n",
       " 'henrik': 18745,\n",
       " 'dee': 9266,\n",
       " 'wright': 6119,\n",
       " 'lunch': 6265,\n",
       " '##wei': 19845,\n",
       " 'moths': 14885,\n",
       " '##berries': 20968,\n",
       " 'exclusion': 15945,\n",
       " 'no': 2053,\n",
       " '##↔': 30115,\n",
       " 'duration': 9367,\n",
       " 'kashmir': 13329,\n",
       " '312': 21036,\n",
       " 'boredom': 29556,\n",
       " 'ernie': 14637,\n",
       " '##ment': 3672,\n",
       " 'trips': 9109,\n",
       " 'orchid': 15573,\n",
       " 'intentions': 11174,\n",
       " 'steven': 7112,\n",
       " '164': 17943,\n",
       " 'll': 2222,\n",
       " 'koreans': 24651,\n",
       " '##some': 14045,\n",
       " '##rity': 15780,\n",
       " '##ง': 29946,\n",
       " 'hawk': 9881,\n",
       " 'sixteen': 7032,\n",
       " '##55': 24087,\n",
       " 'hunters': 9624,\n",
       " 'peck': 18082,\n",
       " '##eur': 11236,\n",
       " 'indeed': 5262,\n",
       " '##ulo': 18845,\n",
       " 'demonic': 23170,\n",
       " 'acceptable': 11701,\n",
       " 'abbas': 17532,\n",
       " 'canary': 17154,\n",
       " '##eve': 18697,\n",
       " 'anchor': 8133,\n",
       " 'availability': 11343,\n",
       " 'sponsors': 13162,\n",
       " 'right': 2157,\n",
       " 'andhra': 14065,\n",
       " '人': 1756,\n",
       " '##urn': 14287,\n",
       " '##lving': 25780,\n",
       " 'matt': 4717,\n",
       " 'inherently': 26096,\n",
       " 'stellar': 17227,\n",
       " 'owner': 3954,\n",
       " '[unused865]': 870,\n",
       " 'concluded': 5531,\n",
       " 'supporter': 10129,\n",
       " 'table': 2795,\n",
       " 'disney': 6373,\n",
       " 'jeremy': 7441,\n",
       " 'clashed': 22600,\n",
       " 'gorgeous': 9882,\n",
       " '660': 20982,\n",
       " '1655': 28438,\n",
       " 'news': 2739,\n",
       " 'rowan': 14596,\n",
       " 'turtle': 13170,\n",
       " 'ই': 1349,\n",
       " 'atp': 12649,\n",
       " '[unused747]': 752,\n",
       " 'evolution': 6622,\n",
       " 'investment': 5211,\n",
       " 'enforcement': 7285,\n",
       " 'defenses': 13345,\n",
       " 'mutations': 14494,\n",
       " '##wice': 23425,\n",
       " 'flies': 10029,\n",
       " 'thanked': 15583,\n",
       " 'fights': 9590,\n",
       " '##pha': 21890,\n",
       " 'johann': 8968,\n",
       " 'joe': 3533,\n",
       " 'outlying': 25376,\n",
       " '38': 4229,\n",
       " 'changes': 3431,\n",
       " 'critique': 16218,\n",
       " 'casper': 24602,\n",
       " '##jic': 25008,\n",
       " 'earned': 3687,\n",
       " 'assumption': 11213,\n",
       " 'berg': 15214,\n",
       " 'mimi': 20705,\n",
       " 'rampage': 29216,\n",
       " '##cion': 10446,\n",
       " 'ribbons': 22688,\n",
       " '##lles': 20434,\n",
       " 'question': 3160,\n",
       " 'ख': 1316,\n",
       " 'wiltshire': 17045,\n",
       " 'spiritual': 6259,\n",
       " 'region': 2555,\n",
       " 'concerts': 6759,\n",
       " '##uous': 8918,\n",
       " '##dee': 26095,\n",
       " 'surveys': 12265,\n",
       " '##⋅': 30141,\n",
       " 'skipping': 25978,\n",
       " '##wives': 23744,\n",
       " '##aldi': 24657,\n",
       " 'narcotics': 27290,\n",
       " '##lev': 20414,\n",
       " 'teddy': 11389,\n",
       " '1755': 21417,\n",
       " 'villiers': 25333,\n",
       " '##ople': 27469,\n",
       " 'balanced': 12042,\n",
       " 'fredrik': 25454,\n",
       " '1856': 8708,\n",
       " '##t': 2102,\n",
       " '##uan': 13860,\n",
       " '##iform': 22631,\n",
       " 'revue': 17480,\n",
       " 'commentary': 8570,\n",
       " 'possessive': 22105,\n",
       " 'analytics': 25095,\n",
       " 'echoing': 17142,\n",
       " '##yson': 25385,\n",
       " '##dget': 24291,\n",
       " '##gart': 27378,\n",
       " '##ria': 4360,\n",
       " 'gui': 26458,\n",
       " 'terence': 22677,\n",
       " 'dragging': 11920,\n",
       " '##bala': 25060,\n",
       " 'graphic': 8425,\n",
       " 'yokohama': 20507,\n",
       " 'ى': 1299,\n",
       " '2012': 2262,\n",
       " 'harding': 15456,\n",
       " 'regularly': 5570,\n",
       " 'clinical': 6612,\n",
       " 'resolved': 10395,\n",
       " 'pianist': 9066,\n",
       " 'circle': 4418,\n",
       " 'environment': 4044,\n",
       " '##room': 9954,\n",
       " 'ordained': 9492,\n",
       " 'ᆼ': 1489,\n",
       " '[unused411]': 416,\n",
       " 'admit': 6449,\n",
       " 'aviation': 5734,\n",
       " 'flawed': 25077,\n",
       " 'candle': 13541,\n",
       " 'taiwanese': 16539,\n",
       " '950': 20317,\n",
       " 'tajikistan': 23538,\n",
       " 'magdalena': 23984,\n",
       " 'egyptian': 6811,\n",
       " 'composition': 5512,\n",
       " 'detroit': 5626,\n",
       " '##glio': 29480,\n",
       " 'sited': 28603,\n",
       " '##gaon': 27073,\n",
       " 'grande': 9026,\n",
       " 'flickering': 20046,\n",
       " '##ћ': 29764,\n",
       " 'prism': 26113,\n",
       " 'μ': 1166,\n",
       " 'blushing': 25771,\n",
       " '##lity': 18605,\n",
       " 'judge': 3648,\n",
       " 'shifting': 9564,\n",
       " 'ain': 7110,\n",
       " 'eireann': 29157,\n",
       " 'leaned': 4016,\n",
       " 'napoleonic': 18813,\n",
       " '##正': 30414,\n",
       " '##lar': 8017,\n",
       " 'containing': 4820,\n",
       " 'sediment': 19671,\n",
       " 'baron': 5797,\n",
       " 'wilder': 18463,\n",
       " 'nay': 29349,\n",
       " '##ہ': 29845,\n",
       " 'putin': 22072,\n",
       " 'macintosh': 22228,\n",
       " '[unused78]': 79,\n",
       " '##chia': 20881,\n",
       " 'pops': 16949,\n",
       " 'explaining': 9990,\n",
       " '·': 1087,\n",
       " 'fin': 10346,\n",
       " 'genevieve': 20245,\n",
       " 'excel': 24970,\n",
       " 'library': 3075,\n",
       " 'soaking': 22721,\n",
       " 'bed': 2793,\n",
       " '##宀': 30344,\n",
       " 'ᵇ': 1497,\n",
       " 'captives': 21496,\n",
       " 'there': 2045,\n",
       " 'contribution': 6691,\n",
       " 'favourite': 8837,\n",
       " 'hinted': 21795,\n",
       " '##erland': 22492,\n",
       " '##pt': 13876,\n",
       " 'mega': 13164,\n",
       " '訁': 1949,\n",
       " '##zquez': 22938,\n",
       " 'php': 25718,\n",
       " '##jected': 24455,\n",
       " '##sus': 13203,\n",
       " 'vintage': 13528,\n",
       " 'ₗ': 1566,\n",
       " '##tment': 21181,\n",
       " '[unused216]': 221,\n",
       " 'examinations': 14912,\n",
       " 'lorenzo': 12484,\n",
       " 'sculptor': 10160,\n",
       " 'lists': 7201,\n",
       " 'castles': 15618,\n",
       " '3d': 7605,\n",
       " 'dangerously': 20754,\n",
       " 'invaders': 17347,\n",
       " 'jingle': 29262,\n",
       " 'removal': 8208,\n",
       " 'petty': 11612,\n",
       " 'steiner': 21264,\n",
       " '##ruff': 26919,\n",
       " '│': 1616,\n",
       " 'ル': 1733,\n",
       " 'proclamation': 16413,\n",
       " 'zinc': 15813,\n",
       " '##vi': 5737,\n",
       " 'replicate': 28024,\n",
       " '1945': 3386,\n",
       " '##†': 30061,\n",
       " 'ferdinand': 9684,\n",
       " '##gt': 13512,\n",
       " 'analyzing': 20253,\n",
       " '##ʌ': 29700,\n",
       " 'shawn': 13218,\n",
       " 'props': 24387,\n",
       " 'clone': 17598,\n",
       " 'gust': 26903,\n",
       " 'fence': 8638,\n",
       " 'battleships': 21327,\n",
       " '##rp': 14536,\n",
       " 'abrupt': 18772,\n",
       " 'hong': 4291,\n",
       " 'johansson': 26447,\n",
       " '##bey': 19182,\n",
       " 'sees': 5927,\n",
       " 'ajax': 18176,\n",
       " 'ッ': 1711,\n",
       " 'え': 1649,\n",
       " '##rland': 18324,\n",
       " 'writing': 3015,\n",
       " '1738': 28009,\n",
       " '##cious': 18436,\n",
       " 'breakers': 24742,\n",
       " 'helmet': 10412,\n",
       " 'ᅥ': 1472,\n",
       " 'boilers': 20412,\n",
       " 'quasi': 17982,\n",
       " 'senator': 5205,\n",
       " '##η': 24824,\n",
       " 'elections': 3864,\n",
       " 'stigma': 26453,\n",
       " 'definitive': 15764,\n",
       " 'assassinate': 25683,\n",
       " 'evaluating': 23208,\n",
       " 'pin': 9231,\n",
       " 'section': 2930,\n",
       " 'lenin': 17497,\n",
       " '##cke': 19869,\n",
       " '،': 1268,\n",
       " 'isotope': 28846,\n",
       " 'champs': 29008,\n",
       " 'norte': 19931,\n",
       " 'esa': 28776,\n",
       " 'biblical': 10213,\n",
       " '[unused320]': 325,\n",
       " 'wage': 11897,\n",
       " 'glamour': 22439,\n",
       " 'trade': 3119,\n",
       " 'frescoes': 23360,\n",
       " 'muse': 18437,\n",
       " 'kowalski': 28874,\n",
       " 'dvd': 4966,\n",
       " 'hacked': 28719,\n",
       " 'forsyth': 29434,\n",
       " 'officials': 4584,\n",
       " '##sma': 26212,\n",
       " 'float': 14257,\n",
       " 'function': 3853,\n",
       " 'nagar': 16395,\n",
       " 'snooker': 26448,\n",
       " 'avon': 16131,\n",
       " '##ל': 29799,\n",
       " 'along': 2247,\n",
       " 'crowd': 4306,\n",
       " 'lilith': 25576,\n",
       " 'lordship': 20698,\n",
       " 'ordering': 13063,\n",
       " '##endez': 28787,\n",
       " 'sampled': 18925,\n",
       " '##nessy': 25441,\n",
       " 'dirk': 17594,\n",
       " '##thic': 23048,\n",
       " '##rix': 17682,\n",
       " 'retirement': 5075,\n",
       " 'soul': 3969,\n",
       " 'stench': 21555,\n",
       " 'referendum': 9782,\n",
       " '00': 4002,\n",
       " 'channel': 3149,\n",
       " 'head': 2132,\n",
       " 'pauses': 19623,\n",
       " 'recaptured': 23838,\n",
       " 'technical': 4087,\n",
       " 'munitions': 21061,\n",
       " 'wary': 15705,\n",
       " 'whichever': 29221,\n",
       " 'wonders': 16278,\n",
       " 'rosalie': 29564,\n",
       " '™': 1580,\n",
       " 'tyre': 21904,\n",
       " 'aerodrome': 23843,\n",
       " 'mclean': 17602,\n",
       " 'discretion': 19258,\n",
       " '##boro': 12691,\n",
       " 'bo': 8945,\n",
       " 'plucked': 20780,\n",
       " 'nationalists': 17934,\n",
       " 'leroy': 19103,\n",
       " 'portrays': 17509,\n",
       " '##mics': 22924,\n",
       " '##60': 16086,\n",
       " '##nting': 24360,\n",
       " 'kamen': 22099,\n",
       " 'visually': 17453,\n",
       " 'prepares': 20776,\n",
       " 'pun': 26136,\n",
       " 'heavenly': 16581,\n",
       " 'going': 2183,\n",
       " 'schmidt': 12940,\n",
       " 'lukas': 23739,\n",
       " '##ela': 10581,\n",
       " 'rye': 20926,\n",
       " 'commercials': 12698,\n",
       " 'streaming': 11058,\n",
       " 'lenny': 19065,\n",
       " '182': 17691,\n",
       " 'latin': 3763,\n",
       " '##ross': 25725,\n",
       " 'catalog': 12105,\n",
       " 'allowed': 3039,\n",
       " 'chapter': 3127,\n",
       " '##pic': 24330,\n",
       " 'detection': 10788,\n",
       " 'loudly': 9928,\n",
       " '##ady': 18632,\n",
       " '##tized': 23355,\n",
       " 'indicate': 5769,\n",
       " 'regulars': 24945,\n",
       " '##emon': 26941,\n",
       " 'staffed': 21121,\n",
       " 'determine': 5646,\n",
       " '##ов': 19259,\n",
       " '##op': 7361,\n",
       " 'inorganic': 28256,\n",
       " '##sai': 15816,\n",
       " 'mckay': 16225,\n",
       " 'propped': 16863,\n",
       " '##bf': 29292,\n",
       " 'refreshing': 27150,\n",
       " 'stanford': 8422,\n",
       " '##մ': 29776,\n",
       " '##tec': 26557,\n",
       " 'washington': 2899,\n",
       " '##⁰': 30071,\n",
       " '##iri': 15735,\n",
       " 'judith': 12924,\n",
       " 'adjustments': 24081,\n",
       " 'commits': 27791,\n",
       " 'aspiring': 22344,\n",
       " 'peng': 26473,\n",
       " '<': 1026,\n",
       " 'understanding': 4824,\n",
       " 'nehru': 23556,\n",
       " 'cozy': 26931,\n",
       " 'euclidean': 25826,\n",
       " 'irritated': 15560,\n",
       " '##aid': 14326,\n",
       " 'cold': 3147,\n",
       " 'assassin': 12025,\n",
       " 'saturn': 14784,\n",
       " 'bound': 5391,\n",
       " 'historic': 3181,\n",
       " 'outlook': 17680,\n",
       " 'colored': 6910,\n",
       " 'advertisement': 15147,\n",
       " '##lock': 7878,\n",
       " 'filled': 3561,\n",
       " 'greenwood': 16827,\n",
       " 'slang': 21435,\n",
       " 'sharon': 10666,\n",
       " '##tions': 9285,\n",
       " 'supplies': 6067,\n",
       " 'mph': 5601,\n",
       " 'shares': 6661,\n",
       " 'chicken': 7975,\n",
       " 'skopje': 29255,\n",
       " 'havre': 28890,\n",
       " 'armed': 4273,\n",
       " 'onwards': 9921,\n",
       " 'friday': 5958,\n",
       " 'sumatra': 18262,\n",
       " 'gladys': 22386,\n",
       " 'winthrop': 28974,\n",
       " 'limerick': 15679,\n",
       " 'wren': 16255,\n",
       " 'swept': 7260,\n",
       " '##nto': 13663,\n",
       " 'seeming': 16064,\n",
       " 'previously': 3130,\n",
       " 'pious': 25020,\n",
       " 'underlying': 10318,\n",
       " 'jack': 2990,\n",
       " 'admiring': 24588,\n",
       " 'troupe': 16017,\n",
       " 'cloudy': 24706,\n",
       " '##40': 12740,\n",
       " 'gill': 12267,\n",
       " 'authenticity': 21452,\n",
       " 'commenting': 15591,\n",
       " 'equivalence': 27841,\n",
       " 'constantinople': 11776,\n",
       " '##ites': 7616,\n",
       " 'upgrading': 25925,\n",
       " '##tler': 25091,\n",
       " 'carthage': 21959,\n",
       " 'detectives': 18145,\n",
       " '##yya': 19903,\n",
       " '##ticus': 29587,\n",
       " 'swiped': 24452,\n",
       " 'belfast': 10330,\n",
       " 'daze': 28918,\n",
       " 'laughed': 4191,\n",
       " 'carmen': 11425,\n",
       " 'pensions': 22024,\n",
       " '[unused990]': 995,\n",
       " '##ials': 26340,\n",
       " '##uel': 16284,\n",
       " '##oof': 21511,\n",
       " '318': 27003,\n",
       " 'trilogy': 11544,\n",
       " 'wah': 22894,\n",
       " 'willis': 12688,\n",
       " 'promo': 19430,\n",
       " 'torah': 16297,\n",
       " 'buckingham': 17836,\n",
       " 'reassuring': 21093,\n",
       " '##unk': 16814,\n",
       " '##balance': 26657,\n",
       " '##oration': 21223,\n",
       " 'excited': 7568,\n",
       " 'subjected': 13532,\n",
       " 'vibe': 21209,\n",
       " 'alpine': 10348,\n",
       " 'poverty': 5635,\n",
       " 'josephine': 16117,\n",
       " 'jordanian': 26276,\n",
       " 'minsk': 20790,\n",
       " '##cellular': 16882,\n",
       " 'sociology': 11507,\n",
       " 'dir': 16101,\n",
       " '##sche': 22842,\n",
       " 'stephenson': 19789,\n",
       " 'imam': 17189,\n",
       " 'genus': 3562,\n",
       " 'extended': 3668,\n",
       " 'mathematics': 5597,\n",
       " 'doctoral': 11316,\n",
       " 'constructive': 26157,\n",
       " '##ired': 27559,\n",
       " '##cc': 9468,\n",
       " '##hum': 28600,\n",
       " '1924': 4814,\n",
       " 'blair': 10503,\n",
       " 'chimney': 17321,\n",
       " 'node': 13045,\n",
       " 'inspiration': 7780,\n",
       " 'straighten': 28568,\n",
       " '##iot': 25185,\n",
       " '##om': 5358,\n",
       " 'progresses': 22901,\n",
       " 'malls': 25943,\n",
       " 'bryce': 19757,\n",
       " 'implicit': 24655,\n",
       " 'dyke': 22212,\n",
       " 'hazel': 14015,\n",
       " 'linked': 5799,\n",
       " 'shaken': 16697,\n",
       " 'ev': 23408,\n",
       " '305': 20405,\n",
       " 'marek': 29318,\n",
       " '##林': 30407,\n",
       " 'heated': 9685,\n",
       " 'zombies': 14106,\n",
       " 'rhea': 24775,\n",
       " '##ion': 3258,\n",
       " 'unspecified': 25851,\n",
       " '##g': 2290,\n",
       " 'appointed': 2805,\n",
       " '##rigues': 22934,\n",
       " 'planted': 8461,\n",
       " 'reactions': 9597,\n",
       " 'legislation': 6094,\n",
       " '104': 9645,\n",
       " 'bethlehem': 19360,\n",
       " 'birch': 16421,\n",
       " '##ड': 29857,\n",
       " '##rga': 28921,\n",
       " 'healthcare': 9871,\n",
       " 'norman': 5879,\n",
       " 'burnett': 13829,\n",
       " 'ives': 23945,\n",
       " 'seekers': 24071,\n",
       " 'south': 2148,\n",
       " '##∅': 30121,\n",
       " 'coins': 7824,\n",
       " 'heidelberg': 16793,\n",
       " 'mushrooms': 23827,\n",
       " 'hospitalized': 24735,\n",
       " 'ken': 6358,\n",
       " '##rcle': 21769,\n",
       " 'howell': 18473,\n",
       " 'donaldson': 23164,\n",
       " 'differed': 19541,\n",
       " 'landscapes': 12793,\n",
       " '##zong': 13150,\n",
       " 'huntington': 16364,\n",
       " 'wagon': 9540,\n",
       " '##•': 30063,\n",
       " 'attract': 9958,\n",
       " '##ious': 6313,\n",
       " 'rbi': 16929,\n",
       " 'alternate': 6585,\n",
       " 'incentive': 20438,\n",
       " 'cinnamon': 21229,\n",
       " 'containment': 29174,\n",
       " 'killings': 16431,\n",
       " 'scots': 12196,\n",
       " 'torres': 13101,\n",
       " 'subdued': 20442,\n",
       " 'monopoly': 15404,\n",
       " 'doctrine': 8998,\n",
       " 'audrey': 14166,\n",
       " 'non': 2512,\n",
       " 'sadness': 12039,\n",
       " 'wellesley': 25658,\n",
       " '##enham': 23580,\n",
       " 'leger': 26523,\n",
       " 'achievement': 6344,\n",
       " 'kung': 18577,\n",
       " 'neon': 16231,\n",
       " 'horses': 5194,\n",
       " 'tatar': 29241,\n",
       " '»': 1090,\n",
       " 'reflective': 21346,\n",
       " 'thirds': 12263,\n",
       " 'promotion': 4712,\n",
       " '(': 1006,\n",
       " 'stability': 9211,\n",
       " 'jody': 27562,\n",
       " '##quisite': 24871,\n",
       " '野': 1963,\n",
       " '田': 1911,\n",
       " '##lass': 27102,\n",
       " 'bizarre': 13576,\n",
       " 'bertha': 25079,\n",
       " 'ghostly': 24407,\n",
       " 'frigates': 22833,\n",
       " '##ave': 10696,\n",
       " '##tries': 21011,\n",
       " '##veda': 28614,\n",
       " 'afternoon': 5027,\n",
       " 'compound': 7328,\n",
       " 'condemn': 28887,\n",
       " '[unused398]': 403,\n",
       " 'submissions': 27842,\n",
       " 'cape': 4880,\n",
       " '##fields': 15155,\n",
       " 'bournemouth': 22882,\n",
       " 'groundbreaking': 23222,\n",
       " 'ت': 1273,\n",
       " '##yah': 17560,\n",
       " 'packaged': 21972,\n",
       " 'pitt': 15091,\n",
       " 'nudged': 18666,\n",
       " 'angels': 7048,\n",
       " 'wolverhampton': 20085,\n",
       " 'accumulate': 27598,\n",
       " 'coded': 22402,\n",
       " 'piedmont': 18873,\n",
       " '[unused305]': 310,\n",
       " 'mention': 5254,\n",
       " 'noticeable': 17725,\n",
       " 'jefferson': 7625,\n",
       " '##′': 30066,\n",
       " 'opera': 3850,\n",
       " 'steals': 15539,\n",
       " 'departed': 7745,\n",
       " 'timetable': 23839,\n",
       " 'chosen': 4217,\n",
       " '##fixed': 23901,\n",
       " 'lia': 22393,\n",
       " 'stanisław': 26133,\n",
       " 'breed': 8843,\n",
       " 'dawn': 6440,\n",
       " '1992': 2826,\n",
       " '##otted': 26174,\n",
       " '1933': 4537,\n",
       " '##version': 27774,\n",
       " '##mies': 28397,\n",
       " '##cup': 15569,\n",
       " 'strapped': 18019,\n",
       " 'mfa': 26913,\n",
       " 'siren': 19558,\n",
       " 'plus': 4606,\n",
       " '##plicity': 27293,\n",
       " 'kristin': 25130,\n",
       " 'collin': 22180,\n",
       " 'split': 3975,\n",
       " '##ζ': 29724,\n",
       " 'screenwriter': 11167,\n",
       " 'exist': 4839,\n",
       " '##iol': 20282,\n",
       " '##nnis': 27803,\n",
       " '##ucible': 21104,\n",
       " 'asking': 4851,\n",
       " 'diagrams': 26309,\n",
       " 'portland': 6734,\n",
       " 'corresponds': 14788,\n",
       " 'jay': 6108,\n",
       " 'warning': 5432,\n",
       " 'way': 2126,\n",
       " 'mana': 24951,\n",
       " 'relay': 8846,\n",
       " 'mcdonnell': 23149,\n",
       " 'honorable': 13556,\n",
       " 'autopsy': 24534,\n",
       " '##ط': 29828,\n",
       " 'benson': 11999,\n",
       " 'insulin': 22597,\n",
       " '##−1': 27944,\n",
       " 'tree': 3392,\n",
       " 'fugitive': 21329,\n",
       " '[PAD]': 0,\n",
       " 'potter': 10693,\n",
       " '##eira': 21302,\n",
       " 'grinding': 16153,\n",
       " 'bot': 28516,\n",
       " 'fisheries': 13424,\n",
       " '##cake': 17955,\n",
       " 'gonzaga': 26840,\n",
       " 'groningen': 29070,\n",
       " '##ung': 5575,\n",
       " 'screens': 12117,\n",
       " 'fluid': 8331,\n",
       " 'surprises': 20096,\n",
       " 'uhf': 20131,\n",
       " 'sox': 9175,\n",
       " 'graduates': 10845,\n",
       " '[unused796]': 801,\n",
       " 'maldives': 25059,\n",
       " 'oakland': 9182,\n",
       " 'palmer': 8809,\n",
       " 'ᄃ': 1457,\n",
       " 'teenagers': 12908,\n",
       " '[unused840]': 845,\n",
       " 'ɴ': 1124,\n",
       " 'prefect': 19402,\n",
       " 'barrister': 19805,\n",
       " 'handled': 8971,\n",
       " 'relocation': 18344,\n",
       " '324': 27234,\n",
       " 'amazed': 15261,\n",
       " 'soaked': 13077,\n",
       " 'islanders': 16422,\n",
       " 'ventilation': 19536,\n",
       " 'advocating': 20324,\n",
       " 'someday': 13834,\n",
       " '##egorical': 27203,\n",
       " '[unused330]': 335,\n",
       " 'centuries': 4693,\n",
       " 'hastily': 15789,\n",
       " 'visions': 12018,\n",
       " '##ை': 29935,\n",
       " 'edges': 7926,\n",
       " 'scenario': 11967,\n",
       " '##gata': 26589,\n",
       " 'б': 1181,\n",
       " 'provinces': 6941,\n",
       " '1937': 4347,\n",
       " 'palma': 23985,\n",
       " '[unused543]': 548,\n",
       " 'denny': 14465,\n",
       " 'spelling': 11379,\n",
       " '[unused207]': 212,\n",
       " 'losses': 6409,\n",
       " 'influx': 18050,\n",
       " '##天': 30337,\n",
       " 'lt': 8318,\n",
       " 'vile': 25047,\n",
       " '[unused75]': 76,\n",
       " 'argues': 9251,\n",
       " 'agriculture': 5237,\n",
       " 'bergen': 12674,\n",
       " 'pajamas': 27621,\n",
       " 'veto': 22102,\n",
       " '##ome': 8462,\n",
       " 'levine': 17780,\n",
       " '八': 1771,\n",
       " '##hiti': 27798,\n",
       " '##rians': 23543,\n",
       " 'catalonia': 16711,\n",
       " 'harsh': 8401,\n",
       " 'creaked': 28068,\n",
       " '##tious': 20771,\n",
       " '##ryn': 18143,\n",
       " 'crosses': 7821,\n",
       " 'elders': 13376,\n",
       " 'catholics': 10774,\n",
       " 'save': 3828,\n",
       " 'shortest': 20047,\n",
       " '##lais': 28704,\n",
       " 'replied': 3880,\n",
       " 'procurement': 21423,\n",
       " 'grady': 19011,\n",
       " 'finest': 10418,\n",
       " 'soft': 3730,\n",
       " '##₄': 17004,\n",
       " '##ᆼ': 30025,\n",
       " '##az': 10936,\n",
       " 'elm': 17709,\n",
       " 'hurling': 10839,\n",
       " '##metric': 12589,\n",
       " 'murals': 19016,\n",
       " 'land': 2455,\n",
       " 'courage': 8424,\n",
       " '##uding': 24539,\n",
       " 'discharge': 11889,\n",
       " 'immersed': 26275,\n",
       " 'ind': 27427,\n",
       " '##rous': 13288,\n",
       " 'oldest': 4587,\n",
       " 'francs': 24313,\n",
       " 'searching': 6575,\n",
       " 'sheriff': 6458,\n",
       " 'shifter': 18189,\n",
       " '##erin': 23282,\n",
       " 'spaced': 19835,\n",
       " '₆': 1553,\n",
       " 'nme': 23770,\n",
       " 'equations': 11380,\n",
       " 'badly': 6649,\n",
       " 'proportion': 10817,\n",
       " 'vans': 21994,\n",
       " 'russell': 5735,\n",
       " 'parameters': 11709,\n",
       " '##zhou': 9791,\n",
       " 'vendor': 21431,\n",
       " 'waited': 4741,\n",
       " 'breeze': 9478,\n",
       " 'waste': 5949,\n",
       " 'childbirth': 27162,\n",
       " 'ignition': 17446,\n",
       " '##sf': 22747,\n",
       " 'imprisonment': 10219,\n",
       " '[unused878]': 883,\n",
       " 'tract': 12859,\n",
       " 'force': 2486,\n",
       " 'utopia': 26425,\n",
       " 'enter': 4607,\n",
       " 'headmaster': 16296,\n",
       " 'catalogue': 10161,\n",
       " 'warrior': 6750,\n",
       " '##work': 6198,\n",
       " 'b1': 29491,\n",
       " 'distinguished': 5182,\n",
       " 'pinning': 22866,\n",
       " 'fletcher': 10589,\n",
       " 'chapters': 9159,\n",
       " 'morphology': 19476,\n",
       " 'makers': 11153,\n",
       " '##arty': 23871,\n",
       " '##lah': 14431,\n",
       " '##ipes': 28108,\n",
       " 'curls': 14484,\n",
       " 'fishing': 5645,\n",
       " '##ir': 4313,\n",
       " '##王': 30435,\n",
       " 'emission': 15760,\n",
       " 'in': 1999,\n",
       " 'savannah': 10891,\n",
       " 'rolling': 5291,\n",
       " '##uck': 12722,\n",
       " 'serge': 21747,\n",
       " 'cheered': 25471,\n",
       " '##セ': 30234,\n",
       " 'mice': 12328,\n",
       " 'mission': 3260,\n",
       " 'manuscript': 8356,\n",
       " 'cheaper': 16269,\n",
       " 'mtv': 8692,\n",
       " '##sts': 12837,\n",
       " 'incredibly': 11757,\n",
       " 'belarus': 12545,\n",
       " 'portray': 17279,\n",
       " 'consisted': 5031,\n",
       " 'needing': 11303,\n",
       " 'griffiths': 21960,\n",
       " '##ि': 29877,\n",
       " 'elegance': 27745,\n",
       " 'ranch': 8086,\n",
       " '##hopper': 27330,\n",
       " '##load': 11066,\n",
       " 'shale': 18488,\n",
       " '[unused378]': 383,\n",
       " 'abdominal': 21419,\n",
       " 'ר': 1265,\n",
       " 'preparing': 8225,\n",
       " 'chaplin': 23331,\n",
       " 'tortricidae': 27683,\n",
       " 'sack': 12803,\n",
       " '##ग': 29853,\n",
       " 'http': 8299,\n",
       " 'localities': 19664,\n",
       " 'describing': 7851,\n",
       " 'acids': 12737,\n",
       " 'traded': 7007,\n",
       " 'fossils': 11954,\n",
       " 'anton': 9865,\n",
       " 'module': 11336,\n",
       " '##riation': 18769,\n",
       " 'scorer': 10835,\n",
       " 'hu': 15876,\n",
       " '##lts': 21593,\n",
       " 'pavilion': 10531,\n",
       " 'trades': 14279,\n",
       " '##zier': 21548,\n",
       " 'new': 2047,\n",
       " 'transporting': 18276,\n",
       " '[unused958]': 963,\n",
       " '##oop': 18589,\n",
       " 'caucasian': 23368,\n",
       " 'patti': 22732,\n",
       " 'weigh': 17042,\n",
       " '[unused916]': 921,\n",
       " '##ject': 20614,\n",
       " 'sharma': 14654,\n",
       " 'consolation': 24831,\n",
       " 'anterior': 15099,\n",
       " '510': 23475,\n",
       " 'communist': 4750,\n",
       " '##？': 30520,\n",
       " 'nicole': 9851,\n",
       " 'role': 2535,\n",
       " 'antoinette': 28429,\n",
       " 'moors': 24812,\n",
       " 'rca': 12639,\n",
       " 'tank': 4951,\n",
       " '##quent': 15417,\n",
       " 'temporary': 5741,\n",
       " '##uting': 20807,\n",
       " 'ministers': 7767,\n",
       " 'particular': 3327,\n",
       " 'prohibiting': 26325,\n",
       " 'spoiled': 19582,\n",
       " '†': 1526,\n",
       " 'hugs': 24459,\n",
       " 'porn': 22555,\n",
       " 'why': 2339,\n",
       " 'stacks': 20829,\n",
       " '1792': 13414,\n",
       " 'pledged': 16970,\n",
       " 'aching': 14750,\n",
       " 'last': 2197,\n",
       " '138': 15028,\n",
       " 'independents': 23756,\n",
       " '##brook': 9697,\n",
       " 'improvements': 8377,\n",
       " '[unused650]': 655,\n",
       " '##ero': 10624,\n",
       " 'legend': 5722,\n",
       " 'nunez': 28454,\n",
       " 'ᴵ': 1493,\n",
       " 'hiroshi': 26882,\n",
       " 'ة': 1272,\n",
       " 'mead': 19855,\n",
       " '¤': 1070,\n",
       " 'metre': 7924,\n",
       " 'blog': 9927,\n",
       " ...}"
      ]
     },
     "execution_count": 19,
     "metadata": {},
     "output_type": "execute_result"
    }
   ],
   "source": [
    "tokenizer.vocab"
   ]
  },
  {
   "cell_type": "code",
   "execution_count": 20,
   "metadata": {},
   "outputs": [
    {
     "data": {
      "text/plain": [
       "(30522, 30522, 512)"
      ]
     },
     "execution_count": 20,
     "metadata": {},
     "output_type": "execute_result"
    }
   ],
   "source": [
    "len(tokenizer.vocab), tokenizer.vocab_size, tokenizer.model_max_length"
   ]
  },
  {
   "cell_type": "markdown",
   "metadata": {},
   "source": [
    "# DataLoader Train test Split"
   ]
  },
  {
   "cell_type": "code",
   "execution_count": 116,
   "metadata": {},
   "outputs": [
    {
     "name": "stdout",
     "output_type": "stream",
     "text": [
      "(3360, 4) (11200, 4) (1440, 4)\n"
     ]
    }
   ],
   "source": [
    "from sklearn.model_selection import train_test_split\n",
    "train, test = train_test_split(data, test_size=0.3, stratify=data['label_name'])\n",
    "test  , validation = train_test_split(test, test_size=0.3, stratify=test['label_name'])\n",
    "print(test.shape, train.shape, validation.shape)"
   ]
  },
  {
   "cell_type": "code",
   "execution_count": 117,
   "metadata": {},
   "outputs": [],
   "source": [
    "from datasets import Dataset, DatasetDict\n",
    "dataset = DatasetDict({\n",
    "    \"train\": Dataset.from_pandas(train, preserve_index=False),\n",
    "    \"test\": Dataset.from_pandas(test, preserve_index=False),\n",
    "    \"validation\": Dataset.from_pandas(validation, preserve_index=False)\n",
    "})"
   ]
  },
  {
   "cell_type": "code",
   "execution_count": 118,
   "metadata": {},
   "outputs": [
    {
     "data": {
      "text/plain": [
       "DatasetDict({\n",
       "    train: Dataset({\n",
       "        features: ['text', 'label', 'label_name', 'Word per tweet'],\n",
       "        num_rows: 11200\n",
       "    })\n",
       "    test: Dataset({\n",
       "        features: ['text', 'label', 'label_name', 'Word per tweet'],\n",
       "        num_rows: 3360\n",
       "    })\n",
       "    validation: Dataset({\n",
       "        features: ['text', 'label', 'label_name', 'Word per tweet'],\n",
       "        num_rows: 1440\n",
       "    })\n",
       "})"
      ]
     },
     "execution_count": 118,
     "metadata": {},
     "output_type": "execute_result"
    }
   ],
   "source": [
    "\n",
    "dataset"
   ]
  },
  {
   "cell_type": "markdown",
   "metadata": {},
   "source": [
    "# Tokenization of dataset"
   ]
  },
  {
   "cell_type": "code",
   "execution_count": 119,
   "metadata": {},
   "outputs": [
    {
     "data": {
      "text/plain": [
       "{'text': 'i feel unhappy it is no help for me that other persons say that i am happy how much truth there may be in it',\n",
       " 'label': 0,\n",
       " 'label_name': 'sadness',\n",
       " 'Word per tweet': 25}"
      ]
     },
     "execution_count": 119,
     "metadata": {},
     "output_type": "execute_result"
    }
   ],
   "source": [
    "dataset[\"train\"][0]"
   ]
  },
  {
   "cell_type": "code",
   "execution_count": 120,
   "metadata": {},
   "outputs": [],
   "source": [
    "def tokenize(batch):\n",
    "    return tokenizer(batch['text'], padding=True, truncation=True)"
   ]
  },
  {
   "cell_type": "code",
   "execution_count": 121,
   "metadata": {},
   "outputs": [
    {
     "name": "stdout",
     "output_type": "stream",
     "text": [
      "{'input_ids': [101, 1045, 2514, 12511, 2009, 2003, 2053, 2393, 2005, 2033, 2008, 2060, 5381, 2360, 2008, 1045, 2572, 3407, 2129, 2172, 3606, 2045, 2089, 2022, 1999, 2009, 102], 'token_type_ids': [0, 0, 0, 0, 0, 0, 0, 0, 0, 0, 0, 0, 0, 0, 0, 0, 0, 0, 0, 0, 0, 0, 0, 0, 0, 0, 0], 'attention_mask': [1, 1, 1, 1, 1, 1, 1, 1, 1, 1, 1, 1, 1, 1, 1, 1, 1, 1, 1, 1, 1, 1, 1, 1, 1, 1, 1]}\n"
     ]
    }
   ],
   "source": [
    "print(tokenize(dataset['train'][0]))"
   ]
  },
  {
   "cell_type": "code",
   "execution_count": 122,
   "metadata": {},
   "outputs": [
    {
     "data": {
      "application/vnd.jupyter.widget-view+json": {
       "model_id": "034b86fb5bd043cbbcad49a97b585d52",
       "version_major": 2,
       "version_minor": 0
      },
      "text/plain": [
       "Map:   0%|          | 0/11200 [00:00<?, ? examples/s]"
      ]
     },
     "metadata": {},
     "output_type": "display_data"
    },
    {
     "data": {
      "application/vnd.jupyter.widget-view+json": {
       "model_id": "9faab55180b848d1b4edb444f2ffe057",
       "version_major": 2,
       "version_minor": 0
      },
      "text/plain": [
       "Map:   0%|          | 0/3360 [00:00<?, ? examples/s]"
      ]
     },
     "metadata": {},
     "output_type": "display_data"
    },
    {
     "data": {
      "application/vnd.jupyter.widget-view+json": {
       "model_id": "35022bb4c2ef4e318932d902fc1083c0",
       "version_major": 2,
       "version_minor": 0
      },
      "text/plain": [
       "Map:   0%|          | 0/1440 [00:00<?, ? examples/s]"
      ]
     },
     "metadata": {},
     "output_type": "display_data"
    }
   ],
   "source": [
    "emotion_encoded = dataset.map(tokenize, batched=True, batch_size=None)"
   ]
  },
  {
   "cell_type": "code",
   "execution_count": 123,
   "metadata": {},
   "outputs": [
    {
     "data": {
      "text/plain": [
       "DatasetDict({\n",
       "    train: Dataset({\n",
       "        features: ['text', 'label', 'label_name', 'Word per tweet', 'input_ids', 'token_type_ids', 'attention_mask'],\n",
       "        num_rows: 11200\n",
       "    })\n",
       "    test: Dataset({\n",
       "        features: ['text', 'label', 'label_name', 'Word per tweet', 'input_ids', 'token_type_ids', 'attention_mask'],\n",
       "        num_rows: 3360\n",
       "    })\n",
       "    validation: Dataset({\n",
       "        features: ['text', 'label', 'label_name', 'Word per tweet', 'input_ids', 'token_type_ids', 'attention_mask'],\n",
       "        num_rows: 1440\n",
       "    })\n",
       "})"
      ]
     },
     "execution_count": 123,
     "metadata": {},
     "output_type": "execute_result"
    }
   ],
   "source": [
    "emotion_encoded"
   ]
  },
  {
   "cell_type": "markdown",
   "metadata": {},
   "source": [
    "###  label2ids , ids2lable"
   ]
  },
  {
   "cell_type": "code",
   "execution_count": 52,
   "metadata": {},
   "outputs": [],
   "source": [
    "\n",
    "label2ids = {item['label_name']: item['label'] for item in dataset['train']}"
   ]
  },
  {
   "cell_type": "code",
   "execution_count": 53,
   "metadata": {},
   "outputs": [],
   "source": [
    "ids2lable = {value: key for key, value in label2ids.items()}"
   ]
  },
  {
   "cell_type": "code",
   "execution_count": 54,
   "metadata": {},
   "outputs": [
    {
     "data": {
      "text/plain": [
       "{2: 'love', 1: 'joy', 0: 'sadness', 3: 'anger', 4: 'fear', 5: 'surprise'}"
      ]
     },
     "execution_count": 54,
     "metadata": {},
     "output_type": "execute_result"
    }
   ],
   "source": [
    "ids2lable"
   ]
  },
  {
   "cell_type": "markdown",
   "metadata": {},
   "source": [
    "# Model building"
   ]
  },
  {
   "cell_type": "code",
   "execution_count": 55,
   "metadata": {},
   "outputs": [],
   "source": [
    "from transformers import AutoModel\n",
    "import torch"
   ]
  },
  {
   "cell_type": "code",
   "execution_count": 56,
   "metadata": {},
   "outputs": [],
   "source": [
    "model = AutoModel.from_pretrained(model_ckpt)"
   ]
  },
  {
   "cell_type": "code",
   "execution_count": 57,
   "metadata": {},
   "outputs": [
    {
     "data": {
      "text/plain": [
       "BertModel(\n",
       "  (embeddings): BertEmbeddings(\n",
       "    (word_embeddings): Embedding(30522, 768, padding_idx=0)\n",
       "    (position_embeddings): Embedding(512, 768)\n",
       "    (token_type_embeddings): Embedding(2, 768)\n",
       "    (LayerNorm): LayerNorm((768,), eps=1e-12, elementwise_affine=True)\n",
       "    (dropout): Dropout(p=0.1, inplace=False)\n",
       "  )\n",
       "  (encoder): BertEncoder(\n",
       "    (layer): ModuleList(\n",
       "      (0-11): 12 x BertLayer(\n",
       "        (attention): BertAttention(\n",
       "          (self): BertSdpaSelfAttention(\n",
       "            (query): Linear(in_features=768, out_features=768, bias=True)\n",
       "            (key): Linear(in_features=768, out_features=768, bias=True)\n",
       "            (value): Linear(in_features=768, out_features=768, bias=True)\n",
       "            (dropout): Dropout(p=0.1, inplace=False)\n",
       "          )\n",
       "          (output): BertSelfOutput(\n",
       "            (dense): Linear(in_features=768, out_features=768, bias=True)\n",
       "            (LayerNorm): LayerNorm((768,), eps=1e-12, elementwise_affine=True)\n",
       "            (dropout): Dropout(p=0.1, inplace=False)\n",
       "          )\n",
       "        )\n",
       "        (intermediate): BertIntermediate(\n",
       "          (dense): Linear(in_features=768, out_features=3072, bias=True)\n",
       "          (intermediate_act_fn): GELUActivation()\n",
       "        )\n",
       "        (output): BertOutput(\n",
       "          (dense): Linear(in_features=3072, out_features=768, bias=True)\n",
       "          (LayerNorm): LayerNorm((768,), eps=1e-12, elementwise_affine=True)\n",
       "          (dropout): Dropout(p=0.1, inplace=False)\n",
       "        )\n",
       "      )\n",
       "    )\n",
       "  )\n",
       "  (pooler): BertPooler(\n",
       "    (dense): Linear(in_features=768, out_features=768, bias=True)\n",
       "    (activation): Tanh()\n",
       "  )\n",
       ")"
      ]
     },
     "execution_count": 57,
     "metadata": {},
     "output_type": "execute_result"
    }
   ],
   "source": [
    "model"
   ]
  },
  {
   "cell_type": "code",
   "execution_count": 58,
   "metadata": {},
   "outputs": [
    {
     "data": {
      "text/plain": [
       "['BertForMaskedLM']"
      ]
     },
     "execution_count": 58,
     "metadata": {},
     "output_type": "execute_result"
    }
   ],
   "source": [
    "model.config.architectures"
   ]
  },
  {
   "cell_type": "code",
   "execution_count": 59,
   "metadata": {},
   "outputs": [
    {
     "data": {
      "text/plain": [
       "BertConfig {\n",
       "  \"_name_or_path\": \"bert-base-uncased\",\n",
       "  \"architectures\": [\n",
       "    \"BertForMaskedLM\"\n",
       "  ],\n",
       "  \"attention_probs_dropout_prob\": 0.1,\n",
       "  \"classifier_dropout\": null,\n",
       "  \"gradient_checkpointing\": false,\n",
       "  \"hidden_act\": \"gelu\",\n",
       "  \"hidden_dropout_prob\": 0.1,\n",
       "  \"hidden_size\": 768,\n",
       "  \"initializer_range\": 0.02,\n",
       "  \"intermediate_size\": 3072,\n",
       "  \"layer_norm_eps\": 1e-12,\n",
       "  \"max_position_embeddings\": 512,\n",
       "  \"model_type\": \"bert\",\n",
       "  \"num_attention_heads\": 12,\n",
       "  \"num_hidden_layers\": 12,\n",
       "  \"pad_token_id\": 0,\n",
       "  \"position_embedding_type\": \"absolute\",\n",
       "  \"transformers_version\": \"4.45.2\",\n",
       "  \"type_vocab_size\": 2,\n",
       "  \"use_cache\": true,\n",
       "  \"vocab_size\": 30522\n",
       "}"
      ]
     },
     "execution_count": 59,
     "metadata": {},
     "output_type": "execute_result"
    }
   ],
   "source": [
    "model.config"
   ]
  },
  {
   "cell_type": "code",
   "execution_count": 60,
   "metadata": {},
   "outputs": [],
   "source": [
    "from transformers import AutoModelForSequenceClassification, AutoConfig"
   ]
  },
  {
   "cell_type": "code",
   "execution_count": 70,
   "metadata": {},
   "outputs": [
    {
     "name": "stderr",
     "output_type": "stream",
     "text": [
      "Some weights of BertForSequenceClassification were not initialized from the model checkpoint at bert-base-uncased and are newly initialized: ['classifier.bias', 'classifier.weight']\n",
      "You should probably TRAIN this model on a down-stream task to be able to use it for predictions and inference.\n"
     ]
    }
   ],
   "source": [
    "# Get the number of labels from the label2ids dictionary (used for classification)\n",
    "num_labels = len(label2ids)\n",
    "\n",
    "# Check if a GPU is available (CUDA), otherwise default to using the CPU\n",
    "# This ensures the model runs on the most efficient hardware\n",
    "device = 'cuda' if torch.cuda.is_available() else 'cpu'\n",
    "\n",
    "# Load the configuration for the pre-trained BERT model\n",
    "# This configuration includes label mapping (label2id and id2label) for classification\n",
    "config = AutoConfig.from_pretrained(model_ckpt, label2id=label2ids, id2label=ids2lable)\n",
    "\n",
    "# Load the pre-trained BERT model for sequence classification with the updated configuration\n",
    "# The model is then moved to the appropriate device (either 'cuda' or 'cpu')\n",
    "model = AutoModelForSequenceClassification.from_pretrained(model_ckpt, config=config).to(device)\n"
   ]
  },
  {
   "cell_type": "code",
   "execution_count": 71,
   "metadata": {},
   "outputs": [
    {
     "data": {
      "text/plain": [
       "BertForSequenceClassification(\n",
       "  (bert): BertModel(\n",
       "    (embeddings): BertEmbeddings(\n",
       "      (word_embeddings): Embedding(30522, 768, padding_idx=0)\n",
       "      (position_embeddings): Embedding(512, 768)\n",
       "      (token_type_embeddings): Embedding(2, 768)\n",
       "      (LayerNorm): LayerNorm((768,), eps=1e-12, elementwise_affine=True)\n",
       "      (dropout): Dropout(p=0.1, inplace=False)\n",
       "    )\n",
       "    (encoder): BertEncoder(\n",
       "      (layer): ModuleList(\n",
       "        (0-11): 12 x BertLayer(\n",
       "          (attention): BertAttention(\n",
       "            (self): BertSdpaSelfAttention(\n",
       "              (query): Linear(in_features=768, out_features=768, bias=True)\n",
       "              (key): Linear(in_features=768, out_features=768, bias=True)\n",
       "              (value): Linear(in_features=768, out_features=768, bias=True)\n",
       "              (dropout): Dropout(p=0.1, inplace=False)\n",
       "            )\n",
       "            (output): BertSelfOutput(\n",
       "              (dense): Linear(in_features=768, out_features=768, bias=True)\n",
       "              (LayerNorm): LayerNorm((768,), eps=1e-12, elementwise_affine=True)\n",
       "              (dropout): Dropout(p=0.1, inplace=False)\n",
       "            )\n",
       "          )\n",
       "          (intermediate): BertIntermediate(\n",
       "            (dense): Linear(in_features=768, out_features=3072, bias=True)\n",
       "            (intermediate_act_fn): GELUActivation()\n",
       "          )\n",
       "          (output): BertOutput(\n",
       "            (dense): Linear(in_features=3072, out_features=768, bias=True)\n",
       "            (LayerNorm): LayerNorm((768,), eps=1e-12, elementwise_affine=True)\n",
       "            (dropout): Dropout(p=0.1, inplace=False)\n",
       "          )\n",
       "        )\n",
       "      )\n",
       "    )\n",
       "    (pooler): BertPooler(\n",
       "      (dense): Linear(in_features=768, out_features=768, bias=True)\n",
       "      (activation): Tanh()\n",
       "    )\n",
       "  )\n",
       "  (dropout): Dropout(p=0.1, inplace=False)\n",
       "  (classifier): Linear(in_features=768, out_features=6, bias=True)\n",
       ")"
      ]
     },
     "execution_count": 71,
     "metadata": {},
     "output_type": "execute_result"
    }
   ],
   "source": [
    "model"
   ]
  },
  {
   "cell_type": "code",
   "execution_count": 72,
   "metadata": {},
   "outputs": [
    {
     "data": {
      "text/plain": [
       "BertConfig {\n",
       "  \"_name_or_path\": \"bert-base-uncased\",\n",
       "  \"architectures\": [\n",
       "    \"BertForMaskedLM\"\n",
       "  ],\n",
       "  \"attention_probs_dropout_prob\": 0.1,\n",
       "  \"classifier_dropout\": null,\n",
       "  \"gradient_checkpointing\": false,\n",
       "  \"hidden_act\": \"gelu\",\n",
       "  \"hidden_dropout_prob\": 0.1,\n",
       "  \"hidden_size\": 768,\n",
       "  \"id2label\": {\n",
       "    \"0\": \"sadness\",\n",
       "    \"1\": \"joy\",\n",
       "    \"2\": \"love\",\n",
       "    \"3\": \"anger\",\n",
       "    \"4\": \"fear\",\n",
       "    \"5\": \"surprise\"\n",
       "  },\n",
       "  \"initializer_range\": 0.02,\n",
       "  \"intermediate_size\": 3072,\n",
       "  \"label2id\": {\n",
       "    \"anger\": 3,\n",
       "    \"fear\": 4,\n",
       "    \"joy\": 1,\n",
       "    \"love\": 2,\n",
       "    \"sadness\": 0,\n",
       "    \"surprise\": 5\n",
       "  },\n",
       "  \"layer_norm_eps\": 1e-12,\n",
       "  \"max_position_embeddings\": 512,\n",
       "  \"model_type\": \"bert\",\n",
       "  \"num_attention_heads\": 12,\n",
       "  \"num_hidden_layers\": 12,\n",
       "  \"pad_token_id\": 0,\n",
       "  \"position_embedding_type\": \"absolute\",\n",
       "  \"transformers_version\": \"4.45.2\",\n",
       "  \"type_vocab_size\": 2,\n",
       "  \"use_cache\": true,\n",
       "  \"vocab_size\": 30522\n",
       "}"
      ]
     },
     "execution_count": 72,
     "metadata": {},
     "output_type": "execute_result"
    }
   ],
   "source": [
    "model.config"
   ]
  },
  {
   "cell_type": "markdown",
   "metadata": {},
   "source": [
    "# Setting Training Args"
   ]
  },
  {
   "cell_type": "code",
   "execution_count": 74,
   "metadata": {},
   "outputs": [],
   "source": [
    "from transformers import TrainingArguments"
   ]
  },
  {
   "cell_type": "code",
   "execution_count": 76,
   "metadata": {},
   "outputs": [
    {
     "name": "stderr",
     "output_type": "stream",
     "text": [
      "/home/boltuzamaki/.cache/pypoetry/virtualenvs/llm_finetuning-ENSJDxuS-py3.10/lib/python3.10/site-packages/transformers/training_args.py:1545: FutureWarning: `evaluation_strategy` is deprecated and will be removed in version 4.46 of 🤗 Transformers. Use `eval_strategy` instead\n",
      "  warnings.warn(\n"
     ]
    }
   ],
   "source": [
    "# Define the batch size for training and evaluation\n",
    "batch_size = 8\n",
    "\n",
    "# Specify the directory where the trained model and outputs will be saved\n",
    "training_dir = \"bert_base_uncased\"\n",
    "\n",
    "# Define the training arguments using the Hugging Face `TrainingArguments` class\n",
    "training_args = TrainingArguments(\n",
    "    output_dir=training_dir,  # Directory to save model checkpoints and logs\n",
    "    overwrite_output_dir=True,  # Overwrite the output directory if it already exists\n",
    "    num_train_epochs=2,  # Number of training epochs (how many times the model sees the entire dataset)\n",
    "    learning_rate=2e-5,  # Learning rate for the optimizer (controls how much to adjust weights)\n",
    "    per_device_train_batch_size=batch_size,  # Batch size for training (number of samples per training step)\n",
    "    per_device_eval_batch_size=batch_size,  # Batch size for evaluation (number of samples per evaluation step)\n",
    "    weight_decay=0.01,  # Regularization term to prevent overfitting (penalizes large weights)\n",
    "    evaluation_strategy='epoch',  # Perform evaluation at the end of each training epoch\n",
    "    disable_tqdm=False  # Set to False to show progress bars in the console for training and evaluation\n",
    ")\n"
   ]
  },
  {
   "cell_type": "markdown",
   "metadata": {},
   "source": [
    "# Create compute metrics"
   ]
  },
  {
   "cell_type": "code",
   "execution_count": 81,
   "metadata": {},
   "outputs": [],
   "source": [
    "import evaluate \n",
    "import numpy as np\n",
    "\n",
    "accuracy = evaluate.load(\"accuracy\")\n",
    "\n",
    "def compute_metrics(eval_pred):\n",
    "    predictions, labels = eval_pred\n",
    "    predictions = np.argmax(predictions, axis=1)\n",
    "    return accuracy.compute(predictions=predictions, references= labels)"
   ]
  },
  {
   "cell_type": "code",
   "execution_count": 82,
   "metadata": {},
   "outputs": [],
   "source": [
    "from sklearn.metrics import accuracy_score, f1_score\n",
    "\n",
    "def compute_metrics(pred):\n",
    "    labels = pred.label_ids\n",
    "    preds = pred.predictions.argmax(-1)\n",
    "\n",
    "    f1 = f1_score(labels, preds, average=\"weighted\")\n",
    "    acc = accuracy_score(labels, preds)\n",
    "    return {\"accuracy\": acc, \"f1\": f1}"
   ]
  },
  {
   "cell_type": "markdown",
   "metadata": {},
   "source": [
    "# Build trainer"
   ]
  },
  {
   "cell_type": "code",
   "execution_count": 84,
   "metadata": {},
   "outputs": [],
   "source": [
    "from transformers import Trainer\n",
    "\n",
    "# Initialize the Hugging Face `Trainer` class to manage training, evaluation, and prediction\n",
    "trainer = Trainer(\n",
    "    model=model,  # The model to be trained (already loaded and configured, e.g., BERT for classification)\n",
    "    args=training_args,  # The training arguments defined earlier (batch size, epochs, learning rate, etc.)\n",
    "    train_dataset=emotion_encoded[\"train\"],  # The training dataset (contains the labeled data for model training)\n",
    "    eval_dataset=emotion_encoded[\"validation\"],  # The validation dataset (used for evaluating the model during training)\n",
    "    tokenizer=tokenizer  # The tokenizer (responsible for converting text to token IDs that the model understands)\n",
    ")\n"
   ]
  },
  {
   "cell_type": "code",
   "execution_count": 85,
   "metadata": {},
   "outputs": [
    {
     "data": {
      "application/vnd.jupyter.widget-view+json": {
       "model_id": "e923f31e779c485f9ba46b0b5ba5b469",
       "version_major": 2,
       "version_minor": 0
      },
      "text/plain": [
       "  0%|          | 0/2800 [00:00<?, ?it/s]"
      ]
     },
     "metadata": {},
     "output_type": "display_data"
    },
    {
     "name": "stdout",
     "output_type": "stream",
     "text": [
      "{'loss': 0.9673, 'grad_norm': 16.140193939208984, 'learning_rate': 1.642857142857143e-05, 'epoch': 0.36}\n",
      "{'loss': 0.3623, 'grad_norm': 9.968568801879883, 'learning_rate': 1.2857142857142859e-05, 'epoch': 0.71}\n"
     ]
    },
    {
     "data": {
      "application/vnd.jupyter.widget-view+json": {
       "model_id": "9d488b94b71747679d0e5c63e894d8fe",
       "version_major": 2,
       "version_minor": 0
      },
      "text/plain": [
       "  0%|          | 0/180 [00:00<?, ?it/s]"
      ]
     },
     "metadata": {},
     "output_type": "display_data"
    },
    {
     "name": "stdout",
     "output_type": "stream",
     "text": [
      "{'eval_loss': 0.22321875393390656, 'eval_accuracy': 0.9298611111111111, 'eval_f1': 0.9296529855426023, 'eval_runtime': 12.0578, 'eval_samples_per_second': 119.424, 'eval_steps_per_second': 14.928, 'epoch': 1.0}\n",
      "{'loss': 0.2498, 'grad_norm': 0.9702441096305847, 'learning_rate': 9.285714285714288e-06, 'epoch': 1.07}\n",
      "{'loss': 0.1714, 'grad_norm': 20.4847469329834, 'learning_rate': 5.7142857142857145e-06, 'epoch': 1.43}\n",
      "{'loss': 0.1608, 'grad_norm': 9.146869659423828, 'learning_rate': 2.1428571428571427e-06, 'epoch': 1.79}\n"
     ]
    },
    {
     "data": {
      "application/vnd.jupyter.widget-view+json": {
       "model_id": "5d457329d7a940df9c8df53dad173e34",
       "version_major": 2,
       "version_minor": 0
      },
      "text/plain": [
       "  0%|          | 0/180 [00:00<?, ?it/s]"
      ]
     },
     "metadata": {},
     "output_type": "display_data"
    },
    {
     "name": "stdout",
     "output_type": "stream",
     "text": [
      "{'eval_loss': 0.20214016735553741, 'eval_accuracy': 0.9326388888888889, 'eval_f1': 0.9331198689345261, 'eval_runtime': 10.2053, 'eval_samples_per_second': 141.103, 'eval_steps_per_second': 17.638, 'epoch': 2.0}\n",
      "{'train_runtime': 661.8504, 'train_samples_per_second': 33.845, 'train_steps_per_second': 4.231, 'train_loss': 0.3556250068119594, 'epoch': 2.0}\n"
     ]
    },
    {
     "data": {
      "text/plain": [
       "TrainOutput(global_step=2800, training_loss=0.3556250068119594, metrics={'train_runtime': 661.8504, 'train_samples_per_second': 33.845, 'train_steps_per_second': 4.231, 'total_flos': 1001502421516800.0, 'train_loss': 0.3556250068119594, 'epoch': 2.0})"
      ]
     },
     "execution_count": 85,
     "metadata": {},
     "output_type": "execute_result"
    }
   ],
   "source": [
    "trainer.train()"
   ]
  },
  {
   "cell_type": "markdown",
   "metadata": {},
   "source": [
    "# Evaluate "
   ]
  },
  {
   "cell_type": "code",
   "execution_count": 87,
   "metadata": {},
   "outputs": [
    {
     "data": {
      "application/vnd.jupyter.widget-view+json": {
       "model_id": "f693509a11fc42a7be93f6506af3b4ae",
       "version_major": 2,
       "version_minor": 0
      },
      "text/plain": [
       "  0%|          | 0/420 [00:00<?, ?it/s]"
      ]
     },
     "metadata": {},
     "output_type": "display_data"
    },
    {
     "name": "stdout",
     "output_type": "stream",
     "text": [
      "{'test_loss': 0.21093299984931946, 'test_accuracy': 0.9306547619047619, 'test_f1': 0.9306589297599277, 'test_runtime': 15.3927, 'test_samples_per_second': 218.285, 'test_steps_per_second': 27.286}\n"
     ]
    },
    {
     "data": {
      "text/plain": [
       "array([1, 1, 1, ..., 1, 4, 1])"
      ]
     },
     "execution_count": 87,
     "metadata": {},
     "output_type": "execute_result"
    }
   ],
   "source": [
    "preds_output = trainer.predict(emotion_encoded[\"test\"])\n",
    "print(preds_output.metrics) \n",
    "\n",
    "y_preds = np.argmax(preds_output.predictions, axis=1)\n",
    "y_preds"
   ]
  },
  {
   "cell_type": "code",
   "execution_count": 88,
   "metadata": {},
   "outputs": [],
   "source": [
    "y_true = emotion_encoded[\"test\"][:][\"label\"]"
   ]
  },
  {
   "cell_type": "code",
   "execution_count": 89,
   "metadata": {},
   "outputs": [
    {
     "name": "stdout",
     "output_type": "stream",
     "text": [
      "              precision    recall  f1-score   support\n",
      "\n",
      "           0       0.96      0.96      0.96       980\n",
      "           1       0.95      0.95      0.95      1126\n",
      "           2       0.83      0.84      0.84       274\n",
      "           3       0.93      0.94      0.93       453\n",
      "           4       0.89      0.89      0.89       407\n",
      "           5       0.83      0.82      0.82       120\n",
      "\n",
      "    accuracy                           0.93      3360\n",
      "   macro avg       0.90      0.90      0.90      3360\n",
      "weighted avg       0.93      0.93      0.93      3360\n",
      "\n"
     ]
    }
   ],
   "source": [
    "from sklearn.metrics import classification_report\n",
    "print(classification_report(y_true, y_preds))"
   ]
  },
  {
   "cell_type": "code",
   "execution_count": 92,
   "metadata": {},
   "outputs": [
    {
     "data": {
      "text/plain": [
       "<Axes: >"
      ]
     },
     "execution_count": 92,
     "metadata": {},
     "output_type": "execute_result"
    },
    {
     "data": {
      "image/png": "[encoded data removed]",
      "text/plain": [
       "<Figure size 500x500 with 1 Axes>"
      ]
     },
     "metadata": {},
     "output_type": "display_data"
    }
   ],
   "source": [
    "# plot confusion metrics \n",
    "import seaborn as sns \n",
    "from sklearn.metrics import confusion_matrix\n",
    "import matplotlib.pyplot as plt \n",
    "\n",
    "\n",
    "cm = confusion_matrix(y_true, y_preds)\n",
    "plt.figure(figsize=(5,5))\n",
    "sns.heatmap(cm, annot=True, xticklabels=label2ids.keys(), yticklabels=label2ids.keys(), fmt='d', cbar=False, cmap=\"Reds\")"
   ]
  },
  {
   "cell_type": "markdown",
   "metadata": {},
   "source": [
    "# Build prediction function and store model"
   ]
  },
  {
   "cell_type": "code",
   "execution_count": 103,
   "metadata": {},
   "outputs": [],
   "source": [
    "text = \"I am very sad today\"\n",
    "def get_prediction(text):\n",
    "    input_encoded = tokenizer(text, return_tensors='pt').to(device)\n",
    "\n",
    "    with torch.no_grad():\n",
    "        output = model(**input_encoded)\n",
    "\n",
    "    return output.logits.argmax().item(), ids2lable[output.logits.argmax().item()]"
   ]
  },
  {
   "cell_type": "code",
   "execution_count": 104,
   "metadata": {},
   "outputs": [
    {
     "data": {
      "text/plain": [
       "(0, 'sadness')"
      ]
     },
     "execution_count": 104,
     "metadata": {},
     "output_type": "execute_result"
    }
   ],
   "source": [
    "get_prediction(text)"
   ]
  },
  {
   "cell_type": "markdown",
   "metadata": {},
   "source": [
    "### save model"
   ]
  },
  {
   "cell_type": "code",
   "execution_count": 105,
   "metadata": {},
   "outputs": [],
   "source": [
    "trainer.save_model(\"bert_base_uncased_sentiment_model\")"
   ]
  },
  {
   "cell_type": "markdown",
   "metadata": {},
   "source": [
    "# Use pipeline for prediction"
   ]
  },
  {
   "cell_type": "code",
   "execution_count": 106,
   "metadata": {},
   "outputs": [
    {
     "name": "stderr",
     "output_type": "stream",
     "text": [
      "Hardware accelerator e.g. GPU is available in the environment, but no `device` argument is passed to the `Pipeline` object. Model will be on CPU.\n"
     ]
    }
   ],
   "source": [
    "from transformers import pipeline\n",
    "\n",
    "classifier = pipeline(\"text-classification\", model=\"bert_base_uncased_sentiment_model\")"
   ]
  },
  {
   "cell_type": "code",
   "execution_count": 107,
   "metadata": {},
   "outputs": [
    {
     "data": {
      "text/plain": [
       "[{'label': 'anger', 'score': 0.987821638584137}]"
      ]
     },
     "execution_count": 107,
     "metadata": {},
     "output_type": "execute_result"
    }
   ],
   "source": [
    "classifier(\"hey what the fuck is that ?\")"
   ]
  }
 ],
 "metadata": {
  "kernelspec": {
   "display_name": "llm_finetuning-ENSJDxuS-py3.10",
   "language": "python",
   "name": "python3"
  },
  "language_info": {
   "codemirror_mode": {
    "name": "ipython",
    "version": 3
   },
   "file_extension": ".py",
   "mimetype": "text/x-python",
   "name": "python",
   "nbconvert_exporter": "python",
   "pygments_lexer": "ipython3",
   "version": "3.10.14"
  }
 },
 "nbformat": 4,
 "nbformat_minor": 2
}
